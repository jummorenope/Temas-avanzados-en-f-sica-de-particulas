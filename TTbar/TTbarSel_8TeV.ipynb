{
 "cells": [
  {
   "cell_type": "markdown",
   "metadata": {
    "id": "N0Jmtrd8gsX_"
   },
   "source": [
    "# An introductional notebook to HEP analysis in C++\n",
    "\n",
    "<p>In this notebook you can find an easy set of commands that show some basic computing techniques commonly used in High Energy Physics (HEP) analyzes.</p>\n",
    "\n",
    "<p>It also shows how to create an histogram, fill it and draw it. Moreover it is an introduction to [ROOT](https://root.cern.ch/) too. The final output is a plot with the number of leptons.</p>\n",
    "\n",
    "Based on ATLAS opendata notebooks (http://opendata.atlas.cern/release/2020/documentation/notebooks/intro.html)\n"
   ]
  },
  {
   "cell_type": "markdown",
   "metadata": {
    "id": "UBjI0eMAgsYA"
   },
   "source": [
    "The library used is [ROOT](https://root.cern.ch/), a scientific data analysis software framework that provides a large set of functionalities needed to deal with big data processing, statistical analysis, visualisation and storage."
   ]
  },
  {
   "cell_type": "markdown",
   "metadata": {
    "id": "32w1hTn_gsYB"
   },
   "source": [
    "<p>At first we have to include several helpers that will support our analysis:</p>"
   ]
  },
  {
   "cell_type": "code",
   "execution_count": 2,
   "metadata": {
    "id": "BM-DWvbpgsYB"
   },
   "outputs": [],
   "source": [
    "#include <iostream>\n",
    "#include <string>\n",
    "#include <stdio.h>"
   ]
  },
  {
   "cell_type": "markdown",
   "metadata": {
    "id": "mCENnFUSgsYD"
   },
   "source": [
    "Next we have to open the data that we want to analyze. As described above the data is stored in a _*.root_ file. This is a root file containing tracks and calorimeter clusters"
   ]
  },
  {
   "cell_type": "code",
   "execution_count": 3,
   "metadata": {
    "id": "XK8rIYwCgsYD"
   },
   "outputs": [],
   "source": [
    "TFile *file = TFile::Open(\"../Data_8TeV.root\"); "
   ]
  },
  {
   "cell_type": "markdown",
   "metadata": {
    "id": "oNOp9uUlgsYF"
   },
   "source": [
    "The next step is to define a tree named _tree_ to get the data out of the _*.root_ file. The tree in this root file is called \"JetRecoTree\". We will then print the contents of the tree to find the names of the variables. "
   ]
  },
  {
   "cell_type": "code",
   "execution_count": 4,
   "metadata": {
    "id": "yC8ilnQRgsYG",
    "outputId": "95ee7478-7598-4484-c3db-1b844aaec9f8"
   },
   "outputs": [
    {
     "name": "stdout",
     "output_type": "stream",
     "text": [
      "******************************************************************************\n",
      "*Tree    :mini      : 4-vectors + variables required for scaling factors     *\n",
      "*Entries : 14945674 : Total =      3737586466 bytes  File  Size = 1366006484 *\n",
      "*        :          : Tree compression factor =   2.74                       *\n",
      "******************************************************************************\n",
      "*Br    0 :runNumber : runNumber/I                                            *\n",
      "*Entries : 14945674 : Total  Size=   59789737 bytes  File Size  =     297928 *\n",
      "*Baskets :       70 : Basket Size=    1224192 bytes  Compression= 200.68     *\n",
      "*............................................................................*\n",
      "*Br    1 :eventNumber : eventNumber/I                                        *\n",
      "*Entries : 14945674 : Total  Size=   59789885 bytes  File Size  =   44412272 *\n",
      "*Baskets :       70 : Basket Size=    1224192 bytes  Compression=   1.35     *\n",
      "*............................................................................*\n",
      "*Br    2 :channelNumber : channelNumber/I                                    *\n",
      "*Entries : 14945674 : Total  Size=   59790033 bytes  File Size  =     298208 *\n",
      "*Baskets :       70 : Basket Size=    1224192 bytes  Compression= 200.49     *\n",
      "*............................................................................*\n",
      "*Br    3 :mcWeight  : mcWeight/F                                             *\n",
      "*Entries : 14945674 : Total  Size=   59789663 bytes  File Size  =     268231 *\n",
      "*Baskets :       70 : Basket Size=    1224192 bytes  Compression= 222.90     *\n",
      "*............................................................................*\n",
      "*Br    4 :pvxp_n    : pvxp_n/I                                               *\n",
      "*Entries : 14945674 : Total  Size=   59789515 bytes  File Size  =   13103705 *\n",
      "*Baskets :       70 : Basket Size=    1224192 bytes  Compression=   4.56     *\n",
      "*............................................................................*\n",
      "*Br    5 :vxp_z     : vxp_z/F                                                *\n",
      "*Entries : 14945674 : Total  Size=   59789441 bytes  File Size  =   55540897 *\n",
      "*Baskets :       70 : Basket Size=    1224192 bytes  Compression=   1.08     *\n",
      "*............................................................................*\n",
      "*Br    6 :scaleFactor_PILEUP : scaleFactor_PILEUP/F                          *\n",
      "*Entries : 14945674 : Total  Size=   59790403 bytes  File Size  =     268931 *\n",
      "*Baskets :       70 : Basket Size=    1224192 bytes  Compression= 222.32     *\n",
      "*............................................................................*\n",
      "*Br    7 :scaleFactor_ELE : scaleFactor_ELE/F                                *\n",
      "*Entries : 14945674 : Total  Size=   59790181 bytes  File Size  =     268721 *\n",
      "*Baskets :       70 : Basket Size=    1224192 bytes  Compression= 222.49     *\n",
      "*............................................................................*\n",
      "*Br    8 :scaleFactor_MUON : scaleFactor_MUON/F                              *\n",
      "*Entries : 14945674 : Total  Size=   59790255 bytes  File Size  =     268791 *\n",
      "*Baskets :       70 : Basket Size=    1224192 bytes  Compression= 222.43     *\n",
      "*............................................................................*\n",
      "*Br    9 :scaleFactor_BTAG : scaleFactor_BTAG/F                              *\n",
      "*Entries : 14945674 : Total  Size=   59790255 bytes  File Size  =     268791 *\n",
      "*Baskets :       70 : Basket Size=    1224192 bytes  Compression= 222.43     *\n",
      "*............................................................................*\n",
      "*Br   10 :scaleFactor_TRIGGER : scaleFactor_TRIGGER/F                        *\n",
      "*Entries : 14945674 : Total  Size=   59790477 bytes  File Size  =     269001 *\n",
      "*Baskets :       70 : Basket Size=    1224192 bytes  Compression= 222.26     *\n",
      "*............................................................................*\n",
      "*Br   11 :scaleFactor_JVFSF : scaleFactor_JVFSF/F                            *\n",
      "*Entries : 14945674 : Total  Size=   59790329 bytes  File Size  =     268861 *\n",
      "*Baskets :       70 : Basket Size=    1224192 bytes  Compression= 222.38     *\n",
      "*............................................................................*\n",
      "*Br   12 :scaleFactor_ZVERTEX : scaleFactor_ZVERTEX/F                        *\n",
      "*Entries : 14945674 : Total  Size=   59790477 bytes  File Size  =     269001 *\n",
      "*Baskets :       70 : Basket Size=    1224192 bytes  Compression= 222.26     *\n",
      "*............................................................................*\n",
      "*Br   13 :trigE     : trigE/O                                                *\n",
      "*Entries : 14945674 : Total  Size=   14958761 bytes  File Size  =      79720 *\n",
      "*Baskets :      139 : Basket Size=     159744 bytes  Compression= 187.60     *\n",
      "*............................................................................*\n",
      "*Br   14 :trigM     : trigM/O                                                *\n",
      "*Entries : 14945674 : Total  Size=   14958761 bytes  File Size  =     104652 *\n",
      "*Baskets :      139 : Basket Size=     159744 bytes  Compression= 142.91     *\n",
      "*............................................................................*\n",
      "*Br   15 :passGRL   : passGRL/O                                              *\n",
      "*Entries : 14945674 : Total  Size=   14959047 bytes  File Size  =      80772 *\n",
      "*Baskets :      139 : Basket Size=     159744 bytes  Compression= 185.16     *\n",
      "*............................................................................*\n",
      "*Br   16 :hasGoodVertex : hasGoodVertex/O                                    *\n",
      "*Entries : 14945674 : Total  Size=   14959905 bytes  File Size  =     829254 *\n",
      "*Baskets :      139 : Basket Size=     159744 bytes  Compression=  18.04     *\n",
      "*............................................................................*\n",
      "*Br   17 :lep_n     : lep_n/i                                                *\n",
      "*Entries : 14945674 : Total  Size=   59789441 bytes  File Size  =    2971296 *\n",
      "*Baskets :       70 : Basket Size=    1224192 bytes  Compression=  20.12     *\n",
      "*............................................................................*\n",
      "*Br   18 :lep_truthMatched : lep_truthMatched[lep_n]/O                       *\n",
      "*Entries : 14945674 : Total  Size=   75857338 bytes  File Size  =   20999814 *\n",
      "*Baskets :      139 : Basket Size=    1224192 bytes  Compression=   3.61     *\n",
      "*............................................................................*\n",
      "*Br   19 :lep_trigMatched : lep_trigMatched[lep_n]/s                         *\n",
      "*Entries : 14945674 : Total  Size=   91915976 bytes  File Size  =   24049899 *\n",
      "*Baskets :      139 : Basket Size=    1224192 bytes  Compression=   3.82     *\n",
      "*............................................................................*\n",
      "*Br   20 :lep_pt    : lep_pt[lep_n]/F                                        *\n",
      "*Entries : 14945674 : Total  Size=  124039220 bytes  File Size  =   74690269 *\n",
      "*Baskets :      208 : Basket Size=    1224192 bytes  Compression=   1.66     *\n",
      "*............................................................................*\n",
      "*Br   21 :lep_eta   : lep_eta[lep_n]/F                                       *\n",
      "*Entries : 14945674 : Total  Size=  124039432 bytes  File Size  =   77563362 *\n",
      "*Baskets :      208 : Basket Size=    1224192 bytes  Compression=   1.60     *\n",
      "*............................................................................*\n",
      "*Br   22 :lep_phi   : lep_phi[lep_n]/F                                       *\n",
      "*Entries : 14945674 : Total  Size=  124039432 bytes  File Size  =   77598012 *\n",
      "*Baskets :      208 : Basket Size=    1224192 bytes  Compression=   1.60     *\n",
      "*............................................................................*\n",
      "*Br   23 :lep_E     : lep_E[lep_n]/F                                         *\n",
      "*Entries : 14945674 : Total  Size=  124039008 bytes  File Size  =   75496519 *\n",
      "*Baskets :      208 : Basket Size=    1224192 bytes  Compression=   1.64     *\n",
      "*............................................................................*\n",
      "*Br   24 :lep_z0    : lep_z0[lep_n]/F                                        *\n",
      "*Entries : 14945674 : Total  Size=  124039220 bytes  File Size  =   78351134 *\n",
      "*Baskets :      208 : Basket Size=    1224192 bytes  Compression=   1.58     *\n",
      "*............................................................................*\n",
      "*Br   25 :lep_charge : lep_charge[lep_n]/F                                   *\n",
      "*Entries : 14945674 : Total  Size=  124040068 bytes  File Size  =   25355214 *\n",
      "*Baskets :      208 : Basket Size=    1224192 bytes  Compression=   4.89     *\n",
      "*............................................................................*\n",
      "*Br   26 :lep_type  : lep_type[lep_n]/i                                      *\n",
      "*Entries : 14945674 : Total  Size=  124039637 bytes  File Size  =   18822849 *\n",
      "*Baskets :      208 : Basket Size=    1224192 bytes  Compression=   6.59     *\n",
      "*............................................................................*\n",
      "*Br   27 :lep_flag  : lep_flag[lep_n]/i                                      *\n",
      "*Entries : 14945674 : Total  Size=  124039637 bytes  File Size  =   31625869 *\n",
      "*Baskets :      208 : Basket Size=    1224192 bytes  Compression=   3.92     *\n",
      "*............................................................................*\n",
      "*Br   28 :lep_ptcone30 : lep_ptcone30[lep_n]/F                               *\n",
      "*Entries : 14945674 : Total  Size=  124040492 bytes  File Size  =   45473662 *\n",
      "*Baskets :      208 : Basket Size=    1224192 bytes  Compression=   2.73     *\n",
      "*............................................................................*\n",
      "*Br   29 :lep_etcone20 : lep_etcone20[lep_n]/F                               *\n",
      "*Entries : 14945674 : Total  Size=  124040492 bytes  File Size  =   75793466 *\n",
      "*Baskets :      208 : Basket Size=    1224192 bytes  Compression=   1.64     *\n",
      "*............................................................................*\n",
      "*Br   30 :lep_trackd0pvunbiased : lep_trackd0pvunbiased[lep_n]/F             *\n",
      "*Entries : 14945674 : Total  Size=  124042400 bytes  File Size  =   78337113 *\n",
      "*Baskets :      208 : Basket Size=    1224192 bytes  Compression=   1.58     *\n",
      "*............................................................................*\n",
      "*Br   31 :lep_tracksigd0pvunbiased : lep_tracksigd0pvunbiased[lep_n]/F       *\n",
      "*Entries : 14945674 : Total  Size=  124043036 bytes  File Size  =   74120311 *\n",
      "*Baskets :      208 : Basket Size=    1224192 bytes  Compression=   1.67     *\n",
      "*............................................................................*\n",
      "*Br   32 :met_et    : met_et/F                                               *\n",
      "*Entries : 14945674 : Total  Size=   59789515 bytes  File Size  =   53578213 *\n",
      "*Baskets :       70 : Basket Size=    1224192 bytes  Compression=   1.12     *\n",
      "*............................................................................*\n",
      "*Br   33 :met_phi   : met_phi/F                                              *\n",
      "*Entries : 14945674 : Total  Size=   59789589 bytes  File Size  =   55415952 *\n",
      "*Baskets :       70 : Basket Size=    1224192 bytes  Compression=   1.08     *\n",
      "*............................................................................*\n",
      "*Br   34 :jet_n     : jet_n/i                                                *\n",
      "*Entries : 14945674 : Total  Size=   59789441 bytes  File Size  =    7425059 *\n",
      "*Baskets :       70 : Basket Size=    1224192 bytes  Compression=   8.05     *\n",
      "*............................................................................*\n",
      "*Br   35 :alljet_n  : alljet_n/i                                             *\n",
      "*Entries : 14945674 : Total  Size=   59789663 bytes  File Size  =    7943976 *\n",
      "*Baskets :       70 : Basket Size=    1224192 bytes  Compression=   7.53     *\n",
      "*............................................................................*\n",
      "*Br   36 :jet_pt    : jet_pt[alljet_n]/F                                     *\n",
      "*Entries : 14945674 : Total  Size=   94527479 bytes  File Size  =   43503461 *\n",
      "*Baskets :      139 : Basket Size=    1224192 bytes  Compression=   2.17     *\n",
      "*............................................................................*\n",
      "*Br   37 :jet_eta   : jet_eta[alljet_n]/F                                    *\n",
      "*Entries : 14945674 : Total  Size=   94527622 bytes  File Size  =   44933234 *\n",
      "*Baskets :      139 : Basket Size=    1224192 bytes  Compression=   2.10     *\n",
      "*............................................................................*\n",
      "*Br   38 :jet_phi   : jet_phi[alljet_n]/F                                    *\n",
      "*Entries : 14945674 : Total  Size=   94527622 bytes  File Size  =   44929226 *\n",
      "*Baskets :      139 : Basket Size=    1224192 bytes  Compression=   2.10     *\n",
      "*............................................................................*\n",
      "*Br   39 :jet_E     : jet_E[alljet_n]/F                                      *\n",
      "*Entries : 14945674 : Total  Size=   94527336 bytes  File Size  =   43801321 *\n",
      "*Baskets :      139 : Basket Size=    1224192 bytes  Compression=   2.16     *\n",
      "*............................................................................*\n",
      "*Br   40 :jet_m     : jet_m[alljet_n]/F                                      *\n",
      "*Entries : 14945674 : Total  Size=   94527336 bytes  File Size  =   43460012 *\n",
      "*Baskets :      139 : Basket Size=    1224192 bytes  Compression=   2.17     *\n",
      "*............................................................................*\n",
      "*Br   41 :jet_jvf   : jet_jvf[alljet_n]/F                                    *\n",
      "*Entries : 14945674 : Total  Size=   94527622 bytes  File Size  =   39392706 *\n",
      "*Baskets :      139 : Basket Size=    1224192 bytes  Compression=   2.40     *\n",
      "*............................................................................*\n",
      "*Br   42 :jet_trueflav : jet_trueflav[alljet_n]/I                            *\n",
      "*Entries : 14945674 : Total  Size=   94528330 bytes  File Size  =   12915685 *\n",
      "*Baskets :      139 : Basket Size=    1224192 bytes  Compression=   7.32     *\n",
      "*............................................................................*\n",
      "*Br   43 :jet_truthMatched : jet_truthMatched[alljet_n]/I                    *\n",
      "*Entries : 14945674 : Total  Size=   94528902 bytes  File Size  =   12893729 *\n",
      "*Baskets :      139 : Basket Size=    1224192 bytes  Compression=   7.33     *\n",
      "*............................................................................*\n",
      "*Br   44 :jet_SV0   : jet_SV0[alljet_n]/F                                    *\n",
      "*Entries : 14945674 : Total  Size=   94527622 bytes  File Size  =   16306468 *\n",
      "*Baskets :      139 : Basket Size=    1224192 bytes  Compression=   5.80     *\n",
      "*............................................................................*\n",
      "*Br   45 :jet_MV1   : jet_MV1[alljet_n]/F                                    *\n",
      "*Entries : 14945674 : Total  Size=   94527622 bytes  File Size  =   41303912 *\n",
      "*Baskets :      139 : Basket Size=    1224192 bytes  Compression=   2.29     *\n",
      "*............................................................................*\n"
     ]
    }
   ],
   "source": [
    "TTree *tree = (TTree*) file->Get(\"mini\");\n",
    "tree->Print()"
   ]
  },
  {
   "cell_type": "markdown",
   "metadata": {
    "id": "XvjtXR1GgsYJ"
   },
   "source": [
    "Activate variables "
   ]
  },
  {
   "cell_type": "code",
   "execution_count": 5,
   "metadata": {
    "id": "XSmgUgQZgsYK"
   },
   "outputs": [
    {
     "name": "stderr",
     "output_type": "stream",
     "text": [
      "Error in <TTree::SetBranchAddress>: unknown branch -> EventWeight\n"
     ]
    }
   ],
   "source": [
    "Bool_t e_trig;\n",
    "Bool_t mu_trig;\n",
    "Bool_t good_vtx;\n",
    "UInt_t lep_n;\n",
    "UInt_t jet_n;\n",
    "Float_t MET;\n",
    "Float_t MET_phi;\n",
    "\n",
    "Float_t lep_pt[10];  \n",
    "Float_t lep_eta[10];  \n",
    "Float_t lep_phi[10];  \n",
    "Float_t lep_E[10];  \n",
    "Int_t lep_type[10];  \n",
    "Float_t lep_ptcone30[10];\n",
    "Float_t lep_etcone20[10];\n",
    "\n",
    "Float_t jet_pt[10];\n",
    "Float_t jet_eta[10];\n",
    "Float_t jet_jvf[10];\n",
    "Float_t jet_MV1[10];\n",
    "\n",
    "float evtw = -1;\n",
    "\n",
    "tree->SetBranchAddress(\"trigE\", &e_trig);\n",
    "tree->SetBranchAddress(\"trigM\", &mu_trig);\n",
    "tree->SetBranchAddress(\"hasGoodVertex\", &good_vtx);\n",
    "tree->SetBranchAddress(\"lep_n\", &lep_n);\n",
    "tree->SetBranchAddress(\"jet_n\", &jet_n);\n",
    "tree->SetBranchAddress(\"met_et\", &MET);\n",
    "tree->SetBranchAddress(\"met_phi\", &MET_phi);\n",
    "\n",
    "tree->SetBranchAddress(\"lep_pt\", &lep_pt);\n",
    "tree->SetBranchAddress(\"lep_eta\", &lep_eta);\n",
    "tree->SetBranchAddress(\"lep_phi\", &lep_phi);\n",
    "tree->SetBranchAddress(\"lep_E\", &lep_E);\n",
    "tree->SetBranchAddress(\"lep_type\", &lep_type);\n",
    "tree->SetBranchAddress(\"lep_ptcone30\", &lep_ptcone30);\n",
    "tree->SetBranchAddress(\"lep_etcone20\", &lep_etcone20);\n",
    "\n",
    "tree->SetBranchAddress(\"jet_pt\", &jet_pt);\n",
    "tree->SetBranchAddress(\"jet_eta\", &jet_eta);\n",
    "tree->SetBranchAddress(\"jet_jvf\", &jet_jvf);\n",
    "tree->SetBranchAddress(\"jet_MV1\", &jet_MV1);\n",
    "\n",
    "tree->SetBranchAddress(\"EventWeight\", &evtw);"
   ]
  },
  {
   "cell_type": "markdown",
   "metadata": {
    "id": "b90TefCTgsYL"
   },
   "source": [
    "Create Canvas"
   ]
  },
  {
   "cell_type": "code",
   "execution_count": 8,
   "metadata": {
    "id": "fl2xxCDBgsYM"
   },
   "outputs": [
    {
     "name": "stderr",
     "output_type": "stream",
     "text": [
      "Warning in <TCanvas::Constructor>: Deleting canvas with same name: Canvas\n"
     ]
    }
   ],
   "source": [
    "TCanvas *canvas = new TCanvas(\"Canvas\",\"\",800,600);"
   ]
  },
  {
   "cell_type": "markdown",
   "metadata": {
    "id": "YIG-ymZvgsYN"
   },
   "source": [
    "Create histograms: Leading jet pT and all jets pT "
   ]
  },
  {
   "cell_type": "code",
   "execution_count": 9,
   "metadata": {
    "id": "jzSwJeINgsYO",
    "outputId": "519c142c-7c0d-4504-ffcc-1dcd984b96a9"
   },
   "outputs": [],
   "source": [
    "TH1F *cutflow = new TH1F(\"Cutflow\",\"Cutflow; Cut; Events\",10,0,10);\n",
    "\n",
    "TH1F *hist_njets = new TH1F(\"Number of jets\",\"n-jets; Jet multiplicity; Events\",10,0,10);\n"
   ]
  },
  {
   "cell_type": "markdown",
   "metadata": {
    "id": "3taggmVWgsYQ"
   },
   "source": [
    "Loop and fill histograms"
   ]
  },
  {
   "cell_type": "code",
   "execution_count": 10,
   "metadata": {
    "id": "DIvlXwmrgsYQ",
    "outputId": "5f91a750-c225-4cbb-9dbb-1c2193278700"
   },
   "outputs": [
    {
     "name": "stdout",
     "output_type": "stream",
     "text": [
      "Done!\n",
      "All events:14945674\n",
      "Cut1:14656440\n",
      "Cut2:14656440\n",
      "Cut3:11533698\n",
      "Cut4:61833\n",
      "Cut5:61516\n",
      "Cut6:10804\n",
      "Cut7:8557\n",
      "Cut8:7180\n"
     ]
    }
   ],
   "source": [
    "int nentries, nbytes, i;\n",
    "nentries = (Int_t)tree->GetEntries();\n",
    "\n",
    "int cut1 = 0;\n",
    "int cut2 = 0;\n",
    "int cut3 = 0;\n",
    "int cut4 = 0;\n",
    "int cut5 = 0;\n",
    "int cut6 = 0;\n",
    "int cut7 = 0;\n",
    "int cut8 = 0;\n",
    "\n",
    "\n",
    "for (i = 0; i < nentries; i++)\n",
    "{\n",
    "    nbytes = tree->GetEntry(i);   \n",
    "\n",
    "    //First cut: Good vertex\n",
    "    if(!good_vtx) continue;\n",
    "    cut1++;\n",
    "    cutflow->Fill(1);\n",
    "\n",
    "    //Second cut: Trigger\n",
    "    if(!e_trig && !mu_trig) continue;\n",
    "    cut2++;\n",
    "    cutflow->Fill(2);\n",
    "        \n",
    "    // Preselection of good leptons                                                                                \n",
    "    int n_mu=0;\n",
    "    int n_el=0;\n",
    "    int n_lep=0;\n",
    "    int good_lep=0;\n",
    "    //Loop over leptons\n",
    "    for(unsigned int i=0; i<lep_n; i++){\n",
    "        if( lep_pt[i] < 25000.) continue; \n",
    "        if( lep_ptcone30[i]/lep_pt[i] > 0.15 ) continue; \n",
    "        if( lep_etcone20[i]/lep_pt[i] > 0.15 ) continue;  \n",
    "        if( lep_type [i]==13 && TMath::Abs(lep_eta[i]) < 2.5 ){\n",
    "            n_mu++;\n",
    "            good_lep=i;}\n",
    "        /*\n",
    "        To complete: Add electrons and extract the index for the good lepton\n",
    "        */\n",
    "        if( lep_type [i]==11 && TMath::Abs(lep_eta[i]) < 2.47 ){\n",
    "            if(TMath::Abs(lep_eta[i]) < 1.37 || TMath::Abs(lep_eta[i]) > 1.52){\n",
    "            n_el++;\n",
    "            good_lep=i;}\n",
    "        }\n",
    "        \n",
    "    }\n",
    "    n_lep=n_el+n_mu;\n",
    "    //Select events with only 1 good lepton and fill the cutflow histogram \n",
    "    //Example:\n",
    "    //Third cut (one good lepton):\n",
    "    if(n_lep!=1) continue;\n",
    "    cutflow->Fill(3); \n",
    "    cut3++;\n",
    "    \n",
    "    \n",
    "    int n_jets=0;\n",
    "    int n_bjets=0;\n",
    "    \n",
    "    //Number of jets distribution\n",
    "    hist_njets->Fill(jet_n,evtw);\n",
    "\n",
    "    //Fourth cut: At least 4 jets\n",
    "    if(jet_n<4) continue; \n",
    "    cutflow->Fill(4); \n",
    "    cut4++;\n",
    "\n",
    "    for(unsigned int j=0; j<jet_n; j++){\n",
    "        // To complete: apply jet cuts to find the good jets\n",
    "        if(jet_pt[j] < 25000.) continue;\n",
    "        //Eta cut\n",
    "        if(TMath::Abs(jet_eta[j])>2.5) continue;\n",
    "        // JVF cleaning\n",
    "        if(TMath::Abs(jet_eta[j])<2.4 && jet_pt[j] < 50000. && jet_jvf[j]<.5) continue;\n",
    "        n_jets++;\n",
    "        // cut on 0.7892 MV1 and count the number of b-jets\n",
    "        if(TMath::Abs(jet_MV1[j])<.7892) continue;\n",
    "        n_bjets++;\n",
    "        }\n",
    "    \n",
    "    //Fifth cut: At least 4 good jets\n",
    "    if(n_jets<4) continue; \n",
    "    cutflow->Fill(5); \n",
    "    cut5++;\n",
    "    \n",
    "    //Sixth cut: at least one b-jet\n",
    "    if(n_bjets<2) continue;\n",
    "    cutflow->Fill(6);\n",
    "    cut6++;\n",
    "        \n",
    "    //Seventh cut: MET > 30 GeV\n",
    "    if(MET<=30000.) continue;\n",
    "    cutflow->Fill(7);\n",
    "    cut7++;\n",
    "    \n",
    "    // TLorentzVector definitions                                                               \n",
    "    TLorentzVector Lepton  = TLorentzVector();\n",
    "    TLorentzVector  MeT  = TLorentzVector();\n",
    "\n",
    "    //To complete: Lorentz vectors for the lepton and MET. Use SetPtEtaPhiE().\n",
    "    Lepton.SetPtEtaPhiE(lep_pt[good_lep],lep_eta[good_lep],lep_phi[good_lep],lep_E[good_lep]);\n",
    "    MeT.SetPtEtaPhiE(MET,0,MET_phi,MET);\n",
    "    //Calculation of the mTW using TLorentz vectors             \n",
    "    float mTW = sqrt(2*Lepton.Pt()*MeT.Et()*(1-cos(Lepton.DeltaPhi(MeT))));\n",
    "\n",
    "    //Eight cut: mTW > 30 GeV\n",
    "    if(mTW>30000){\n",
    "        cutflow->Fill(8);\n",
    "        cut8++;\n",
    "    }\n",
    "        \n",
    "}\n",
    "\n",
    "std::cout << \"Done!\" << std::endl;\n",
    "std::cout << \"All events:\" << nentries << std::endl;\n",
    "std::cout << \"Cut1:\" << cut1 << std::endl;\n",
    "std::cout << \"Cut2:\" << cut2 << std::endl;\n",
    "std::cout << \"Cut3:\" << cut3 << std::endl;\n",
    "std::cout << \"Cut4:\" << cut4 << std::endl;\n",
    "std::cout << \"Cut5:\" << cut5 << std::endl;\n",
    "std::cout << \"Cut6:\" << cut6 << std::endl;\n",
    "std::cout << \"Cut7:\" << cut7 << std::endl;\n",
    "std::cout << \"Cut8:\" << cut8 << std::endl;"
   ]
  },
  {
   "cell_type": "markdown",
   "metadata": {
    "id": "vMCkWiTngsYS"
   },
   "source": [
    "<p>Draw</p>"
   ]
  },
  {
   "cell_type": "code",
   "execution_count": 20,
   "metadata": {
    "id": "ZgovbP7NgsYS",
    "outputId": "dfcc531f-ec33-4341-e696-4a01d3fce770"
   },
   "outputs": [
    {
     "data": {
      "image/png": "[encoded data removed]",
      "text/plain": [
       "<IPython.core.display.Image object>"
      ]
     },
     "metadata": {},
     "output_type": "display_data"
    }
   ],
   "source": [
    "cutflow->Draw(\"\");\n",
    "canvas->SetLogy();\n",
    "canvas->Draw();"
   ]
  },
  {
   "cell_type": "code",
   "execution_count": 21,
   "metadata": {
    "id": "_SK2sREygsYU",
    "outputId": "4863fa38-13c3-4f2c-98ee-cf21f2fb7e07"
   },
   "outputs": [
    {
     "data": {
      "image/png": "[encoded data removed]",
      "text/plain": [
       "<IPython.core.display.Image object>"
      ]
     },
     "metadata": {},
     "output_type": "display_data"
    }
   ],
   "source": [
    "hist_njets->Draw();\n",
    "canvas->Draw();"
   ]
  },
  {
   "cell_type": "code",
   "execution_count": null,
   "metadata": {},
   "outputs": [],
   "source": []
  }
 ],
 "metadata": {
  "colab": {
   "name": "TTbarSel_8TeV.ipynb",
   "provenance": []
  },
  "kernelspec": {
   "display_name": "ROOT C++",
   "language": "c++",
   "name": "root"
  },
  "language_info": {
   "codemirror_mode": "text/x-c++src",
   "file_extension": ".C",
   "mimetype": " text/x-c++src",
   "name": "c++"
  }
 },
 "nbformat": 4,
 "nbformat_minor": 1
}
